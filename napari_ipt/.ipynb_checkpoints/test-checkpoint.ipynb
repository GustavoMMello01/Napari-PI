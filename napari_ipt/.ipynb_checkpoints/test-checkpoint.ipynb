{
 "cells": [
  {
   "cell_type": "code",
   "execution_count": 1,
   "metadata": {},
   "outputs": [],
   "source": [
    "from skimage import data\n",
    "import napari\n",
    "import numpy as np\n",
    "from napari.layers import Layer\n",
    "import napari.types\n",
    "from typing import List"
   ]
  },
  {
   "cell_type": "code",
   "execution_count": 2,
   "metadata": {},
   "outputs": [
    {
     "ename": "NameError",
     "evalue": "name 'magicgui' is not defined",
     "output_type": "error",
     "traceback": [
      "\u001b[1;31m---------------------------------------------------------------------------\u001b[0m",
      "\u001b[1;31mNameError\u001b[0m                                 Traceback (most recent call last)",
      "Cell \u001b[1;32mIn [2], line 1\u001b[0m\n\u001b[1;32m----> 1\u001b[0m \u001b[38;5;129m@magicgui\u001b[39m(call_button\u001b[38;5;241m=\u001b[39m\u001b[38;5;124m'\u001b[39m\u001b[38;5;124mMake Points\u001b[39m\u001b[38;5;124m'\u001b[39m, n_points \u001b[38;5;241m=\u001b[39m {\u001b[38;5;124m'\u001b[39m\u001b[38;5;124mmaximum\u001b[39m\u001b[38;5;124m'\u001b[39m: \u001b[38;5;241m200\u001b[39m})\n\u001b[0;32m      2\u001b[0m \u001b[38;5;28;01mdef\u001b[39;00m \u001b[38;5;21mmake_points\u001b[39m(n_points\u001b[38;5;241m=\u001b[39m\u001b[38;5;241m40\u001b[39m) \u001b[38;5;241m-\u001b[39m\u001b[38;5;241m>\u001b[39m napari\u001b[38;5;241m.\u001b[39mtypes\u001b[38;5;241m.\u001b[39mLayerDataTuple:\n\u001b[0;32m      3\u001b[0m   data \u001b[38;5;241m=\u001b[39m \u001b[38;5;241m500\u001b[39m \u001b[38;5;241m*\u001b[39m np\u001b[38;5;241m.\u001b[39mrandom\u001b[38;5;241m.\u001b[39mrand(n_points, \u001b[38;5;241m2\u001b[39m)\n\u001b[0;32m      4\u001b[0m   \u001b[38;5;28;01mreturn\u001b[39;00m ( data, {\u001b[38;5;124m'\u001b[39m\u001b[38;5;124mname\u001b[39m\u001b[38;5;124m'\u001b[39m: \u001b[38;5;124m'\u001b[39m\u001b[38;5;124mMy Points\u001b[39m\u001b[38;5;124m'\u001b[39m}, \u001b[38;5;124m'\u001b[39m\u001b[38;5;124mpoints\u001b[39m\u001b[38;5;124m'\u001b[39m)\n",
      "\u001b[1;31mNameError\u001b[0m: name 'magicgui' is not defined"
     ]
    }
   ],
   "source": [
    "@magicgui(call_button='Make Points', n_points = {'maximum': 200})\n",
    "def make_points(n_points=40) -> napari.types.LayerDataTuple:\n",
    "  data = 500 * np.random.rand(n_points, 2)\n",
    "  return ( data, {'name': 'My Points'}, 'points')\n",
    "\n",
    "viewer = napari.Viewer()\n",
    "viewer.window.add_dock_widget(make_points)\n",
    "# calling this multiple times will just update 'My Points'\n",
    "make_points()\n",
    "make_points.n_points.value = 80\n",
    "make_points()\n",
    "make_points.n_points.value = 120\n",
    "make_points()"
   ]
  },
  {
   "cell_type": "code",
   "execution_count": null,
   "metadata": {
    "scrolled": true
   },
   "outputs": [],
   "source": [
    "'# add points\n",
    "points = np.array([[100, 100], [200, 200], [333, 333]])\n",
    "size = np.array([10, 20, 20])\n",
    "viewer.add_points(points, size=size)"
   ]
  },
  {
   "cell_type": "code",
   "execution_count": null,
   "metadata": {},
   "outputs": [],
   "source": [
    "viewer = napari.view_image(data.astronaut())\n",
    "viewer.window.add_dock_widget(add)"
   ]
  }
 ],
 "metadata": {
  "kernelspec": {
   "display_name": "Python 3 (ipykernel)",
   "language": "python",
   "name": "python3"
  },
  "language_info": {
   "codemirror_mode": {
    "name": "ipython",
    "version": 3
   },
   "file_extension": ".py",
   "mimetype": "text/x-python",
   "name": "python",
   "nbconvert_exporter": "python",
   "pygments_lexer": "ipython3",
   "version": "3.9.15"
  },
  "vscode": {
   "interpreter": {
    "hash": "ca6de0e43aef5651f5ae5b176ea93fb50d22015ed202be4aff80e041ca1e8f33"
   }
  }
 },
 "nbformat": 4,
 "nbformat_minor": 2
}
