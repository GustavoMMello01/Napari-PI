{
 "cells": [
  {
   "cell_type": "code",
   "execution_count": 2,
   "metadata": {},
   "outputs": [
    {
     "name": "stderr",
     "output_type": "stream",
     "text": [
      "WARNING: QWindowsWindow::setGeometry: Unable to set geometry 1534x1063+640+281 (frame: 1552x1110+631+243) on QWidgetWindow/\"_QtMainWindowClassWindow\" on \"\\\\.\\DISPLAY1\". Resulting geometry: 1534x1055+640+281 (frame: 1552x1102+631+243) margins: 9, 38, 9, 9 minimum size: 374x575 MINMAXINFO maxSize=0,0 maxpos=0,0 mintrack=392,622 maxtrack=0,0)\n"
     ]
    }
   ],
   "source": [
    "from magicgui import magicgui\n",
    "import gantry_dummy\n",
    "import napari\n",
    "import numpy as np\n",
    "\n",
    "viewer = napari.view_image(np.random.rand(64, 64), name=\"My Image\")\n",
    "\n",
    "public_method_names = [method for method in dir(gantry_dummy.GantryDummy) if callable(getattr(gantry_dummy.GantryDummy, method)) if not method.startswith('_')]  \n",
    "\n",
    "magicgui()\n",
    "for method in public_method_names:\n",
    "    ui = magicgui(getattr(gantry_dummy.GantryDummy, method))\n",
    "    viewer.window.add_dock_widget(ui)"
   ]
  },
  {
   "cell_type": "code",
   "execution_count": 2,
   "metadata": {},
   "outputs": [
    {
     "name": "stderr",
     "output_type": "stream",
     "text": [
      "WARNING: QWindowsWindow::setGeometry: Unable to set geometry 1086x679+1+22 (frame: 1104x726-8-16) on QWidgetWindow/\"_QtMainWindowClassWindow\" on \"\\\\.\\DISPLAY1\". Resulting geometry: 1360x851+2+29 (frame: 1378x898-7-9) margins: 9, 38, 9, 9 minimum size: 374x575 MINMAXINFO maxSize=0,0 maxpos=0,0 mintrack=392,622 maxtrack=0,0)\n",
      "WARNING: QWindowsWindow::setGeometry: Unable to set geometry 1226x1069+2+29 (frame: 1244x1116-7-9) on QWidgetWindow/\"_QtMainWindowClassWindow\" on \"\\\\.\\DISPLAY1\". Resulting geometry: 1226x1055+2+29 (frame: 1244x1102-7-9) margins: 9, 38, 9, 9 minimum size: 374x575 MINMAXINFO maxSize=0,0 maxpos=0,0 mintrack=392,622 maxtrack=0,0)\n"
     ]
    }
   ],
   "source": [
    "from magicgui import magicgui\n",
    "import gantry_dummy\n",
    "import napari\n",
    "import numpy as np\n",
    "\n",
    "viewer = napari.view_image(np.random.rand(64, 64), name=\"My Image\")\n",
    "\n",
    "public_method_names = [method for method in dir(gantry_dummy.GantryDummy) if callable(getattr(gantry_dummy.GantryDummy, method)) if not method.startswith('_')]  \n",
    "\n",
    "magicgui()\n",
    "for method in public_method_names:\n",
    "    ui = magicgui(getattr(gantry_dummy.GantryDummy, method))\n",
    "    viewer.window.add_dock_widget(ui)\n",
    "   \n",
    "\n"
   ]
  }
 ],
 "metadata": {
  "kernelspec": {
   "display_name": "Python 3.9.15 ('napari-env')",
   "language": "python",
   "name": "python3"
  },
  "language_info": {
   "codemirror_mode": {
    "name": "ipython",
    "version": 3
   },
   "file_extension": ".py",
   "mimetype": "text/x-python",
   "name": "python",
   "nbconvert_exporter": "python",
   "pygments_lexer": "ipython3",
   "version": "3.9.15"
  },
  "orig_nbformat": 4,
  "vscode": {
   "interpreter": {
    "hash": "ca6de0e43aef5651f5ae5b176ea93fb50d22015ed202be4aff80e041ca1e8f33"
   }
  }
 },
 "nbformat": 4,
 "nbformat_minor": 2
}
