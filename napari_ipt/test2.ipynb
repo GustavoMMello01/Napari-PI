{
 "cells": [
  {
   "cell_type": "code",
   "execution_count": 8,
   "metadata": {},
   "outputs": [
    {
     "name": "stderr",
     "output_type": "stream",
     "text": [
      "WARNING: QWindowsWindow::setGeometry: Unable to set geometry 1086x684+1920+30 (frame: 1102x723+1912-1) on QWidgetWindow/\"_QtMainWindowClassWindow\" on \"\\\\.\\DISPLAY4\". Resulting geometry: 867x573+1919+23 (frame: 883x612+1911-8) margins: 8, 31, 8, 8 minimum size: 374x573 MINMAXINFO maxSize=0,0 maxpos=0,0 mintrack=390,612 maxtrack=0,0)\n",
      "WARNING: QWindowsWindow::setGeometry: Unable to set geometry 1090x2278+1919+23 (frame: 1106x2317+1911-8) on QWidgetWindow/\"_QtMainWindowClassWindow\" on \"\\\\.\\DISPLAY4\". Resulting geometry: 1090x1063+1919+23 (frame: 1106x1102+1911-8) margins: 8, 31, 8, 8 minimum size: 374x573 MINMAXINFO maxSize=0,0 maxpos=0,0 mintrack=390,612 maxtrack=0,0)\n"
     ]
    }
   ],
   "source": [
    "from magicgui import magicgui\n",
    "from napari.layers import Image\n",
    "from napari.types import ImageData \n",
    "import gantry_dummy\n",
    "from napari.layers import Layer\n",
    "import napari\n",
    "import numpy as np\n",
    "\n",
    "viewer = napari.view_image(np.random.rand(64, 64), name=\"My Image\")\n",
    "\n",
    "public_method_names = [method for method in dir(gantry_dummy.GantryDummy) if callable(getattr(gantry_dummy.GantryDummy, method)) if not method.startswith('_')]  \n",
    "\n",
    "magicgui()\n",
    "for method in public_method_names:\n",
    "    ui = magicgui(getattr(gantry_dummy.GantryDummy, method))\n",
    "    viewer.window.add_dock_widget(ui)"
   ]
  },
  {
   "cell_type": "code",
   "execution_count": null,
   "metadata": {},
   "outputs": [],
   "source": []
  }
 ],
 "metadata": {
  "kernelspec": {
   "display_name": "Python 3.9.15 ('napari-env')",
   "language": "python",
   "name": "python3"
  },
  "language_info": {
   "codemirror_mode": {
    "name": "ipython",
    "version": 3
   },
   "file_extension": ".py",
   "mimetype": "text/x-python",
   "name": "python",
   "nbconvert_exporter": "python",
   "pygments_lexer": "ipython3",
   "version": "3.9.15"
  },
  "orig_nbformat": 4,
  "vscode": {
   "interpreter": {
    "hash": "ca6de0e43aef5651f5ae5b176ea93fb50d22015ed202be4aff80e041ca1e8f33"
   }
  }
 },
 "nbformat": 4,
 "nbformat_minor": 2
}
