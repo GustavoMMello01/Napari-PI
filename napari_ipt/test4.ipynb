{
 "cells": [
  {
   "cell_type": "code",
   "execution_count": 9,
   "metadata": {},
   "outputs": [],
   "source": [
    "import napari\n",
    "import numpy as np\n",
    "import napari_skimage_regionprops as nsr\n",
    "import pandas as pd"
   ]
  },
  {
   "cell_type": "code",
   "execution_count": 4,
   "metadata": {},
   "outputs": [],
   "source": [
    "image = np.random.random((100,200)) * 10\n",
    "points = np.random.random((100,2)) * 100"
   ]
  },
  {
   "cell_type": "code",
   "execution_count": 7,
   "metadata": {},
   "outputs": [
    {
     "name": "stderr",
     "output_type": "stream",
     "text": [
      "c:\\Users\\gusta\\anaconda3\\envs\\napari-env\\lib\\site-packages\\napari\\plugins\\_plugin_manager.py:542: UserWarning: Plugin 'napari_skimage_regionprops2' has already registered a function widget 'duplicate current frame' which has now been overwritten\n",
      "  warn(message=warn_message)\n"
     ]
    },
    {
     "data": {
      "text/plain": [
       "<Points layer 'points' at 0x20e0934fd00>"
      ]
     },
     "execution_count": 7,
     "metadata": {},
     "output_type": "execute_result"
    }
   ],
   "source": [
    "viewer = napari.Viewer()\n",
    "viewer.add_image(image)\n",
    "viewer.add_points(points, size=4, face_color='red')"
   ]
  },
  {
   "cell_type": "code",
   "execution_count": 10,
   "metadata": {},
   "outputs": [
    {
     "ename": "ValueError",
     "evalue": "invalid entry in coordinates array",
     "output_type": "error",
     "traceback": [
      "\u001b[1;31m---------------------------------------------------------------------------\u001b[0m",
      "\u001b[1;31mValueError\u001b[0m                                Traceback (most recent call last)",
      "Cell \u001b[1;32mIn [10], line 1\u001b[0m\n\u001b[1;32m----> 1\u001b[0m nsr\u001b[39m.\u001b[39;49mmeasure_points(viewer\u001b[39m.\u001b[39;49mlayers[\u001b[39m1\u001b[39;49m]\u001b[39m.\u001b[39;49mdata, viewer\u001b[39m.\u001b[39;49mlayers[\u001b[39m0\u001b[39;49m]\u001b[39m.\u001b[39;49mdata)\n",
      "File \u001b[1;32mc:\\Users\\gusta\\anaconda3\\envs\\napari-env\\lib\\site-packages\\napari_skimage_regionprops\\_measure_points.py:18\u001b[0m, in \u001b[0;36mmeasure_points\u001b[1;34m(points, intensity_image, viewer)\u001b[0m\n\u001b[0;32m     16\u001b[0m points \u001b[39m=\u001b[39m np\u001b[39m.\u001b[39masarray(points)\n\u001b[0;32m     17\u001b[0m coordinates \u001b[39m=\u001b[39m (points \u001b[39m+\u001b[39m \u001b[39m0.5\u001b[39m)\u001b[39m.\u001b[39mastype(\u001b[39mint\u001b[39m)\n\u001b[1;32m---> 18\u001b[0m intensities \u001b[39m=\u001b[39m intensity_image\u001b[39m.\u001b[39mtake(np\u001b[39m.\u001b[39;49mravel_multi_index(coordinates\u001b[39m.\u001b[39;49mT, intensity_image\u001b[39m.\u001b[39;49mshape))\n\u001b[0;32m     20\u001b[0m result_dict \u001b[39m=\u001b[39m {\n\u001b[0;32m     21\u001b[0m     \u001b[39m'\u001b[39m\u001b[39mlabel\u001b[39m\u001b[39m'\u001b[39m: np\u001b[39m.\u001b[39masarray(\u001b[39mlist\u001b[39m(\u001b[39mrange\u001b[39m(\u001b[39mlen\u001b[39m(points)))) \u001b[39m+\u001b[39m \u001b[39m1\u001b[39m,\n\u001b[0;32m     22\u001b[0m     \u001b[39m'\u001b[39m\u001b[39mintensity\u001b[39m\u001b[39m'\u001b[39m: intensities\n\u001b[0;32m     23\u001b[0m }\n\u001b[0;32m     24\u001b[0m axis_names \u001b[39m=\u001b[39m [\u001b[39m'\u001b[39m\u001b[39mz\u001b[39m\u001b[39m'\u001b[39m, \u001b[39m'\u001b[39m\u001b[39my\u001b[39m\u001b[39m'\u001b[39m, \u001b[39m'\u001b[39m\u001b[39mx\u001b[39m\u001b[39m'\u001b[39m]\n",
      "File \u001b[1;32m<__array_function__ internals>:180\u001b[0m, in \u001b[0;36mravel_multi_index\u001b[1;34m(*args, **kwargs)\u001b[0m\n",
      "\u001b[1;31mValueError\u001b[0m: invalid entry in coordinates array"
     ]
    }
   ],
   "source": [
    "nsr.measure_points(viewer.layers[1].data, viewer.layers[0].data)"
   ]
  }
 ],
 "metadata": {
  "kernelspec": {
   "display_name": "Python 3.9.15 ('napari-env')",
   "language": "python",
   "name": "python3"
  },
  "language_info": {
   "codemirror_mode": {
    "name": "ipython",
    "version": 3
   },
   "file_extension": ".py",
   "mimetype": "text/x-python",
   "name": "python",
   "nbconvert_exporter": "python",
   "pygments_lexer": "ipython3",
   "version": "3.9.15"
  },
  "orig_nbformat": 4,
  "vscode": {
   "interpreter": {
    "hash": "ca6de0e43aef5651f5ae5b176ea93fb50d22015ed202be4aff80e041ca1e8f33"
   }
  }
 },
 "nbformat": 4,
 "nbformat_minor": 2
}
