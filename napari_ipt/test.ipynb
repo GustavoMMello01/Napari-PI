{
 "cells": [
  {
   "cell_type": "code",
   "execution_count": 3,
   "metadata": {},
   "outputs": [],
   "source": [
    "#imports from napari\n",
    "from skimage import data\n",
    "import napari\n",
    "import numpy as np\n",
    "from napari.layers import Layer\n",
    "import napari.types\n",
    "from typing import List\n",
    "from magicgui import magicgui"
   ]
  },
  {
   "cell_type": "code",
   "execution_count": null,
   "metadata": {
    "scrolled": true
   },
   "outputs": [],
   "source": [
    "# add points according to a specific array in a normal napari plugin\n",
    "viewer = napari.Viewer()\n",
    "points = np.array([[100, 100], [200, 200], [333, 333]])\n",
    "size = np.array([10, 20, 20])\n",
    "viewer.add_points(points, size=size)"
   ]
  },
  {
   "cell_type": "code",
   "execution_count": null,
   "metadata": {},
   "outputs": [],
   "source": [
    "@magicgui(call_button='Make Points', n_points = {'maximum': 200})\n",
    "def make_points(n_points=40) -> napari.types.LayerDataTuple:\n",
    "  data = 500 * np.random.rand(n_points, 2)\n",
    "  return ( data, {'name': 'My Points'}, 'points')\n",
    "\n",
    "viewer = napari.Viewer()\n",
    "viewer.window.add_dock_widget(make_points)\n",
    "# calling this multiple times will just update 'My Points'\n",
    "# make_points()\n",
    "# make_points.n_points.value = 80\n",
    "# make_points()\n",
    "# make_points.n_points.value = 120\n",
    "# make_points()"
   ]
  },
  {
   "cell_type": "markdown",
   "metadata": {},
   "source": [
    "<h2>Parameter Annotations</h2>"
   ]
  },
  {
   "cell_type": "code",
   "execution_count": null,
   "metadata": {},
   "outputs": [],
   "source": [
    "from magicgui import magicgui\n",
    "from napari.layers import Image\n",
    "from napari.types import ImageData \n",
    "import gantry_dummy\n",
    "from napari.layers import Layer\n",
    "\n",
    "#parameter: Image -> Access the name and the layer \n",
    "@magicgui(image={'label': 'Select a layer to work'})\n",
    "def my_widget_image(image: Image):\n",
    "    gantry_dummy.GantryDummy.test_napari([0,0,0], image)\n",
    "\n",
    "#parameter: ImageData -> Access the data from the selected layer\n",
    "@magicgui()\n",
    "def my_widget_imagedata(array: ImageData):\n",
    "    gantry_dummy.GantryDummy.test_napari([0,0,0], array.data)\n",
    "\n",
    "#parameter: Layer -> allows the user to pick from all layers in the layer list\n",
    "@magicgui\n",
    "def my_widget_layer(layer: Layer):\n",
    "    gantry_dummy.GantryDummy.test_napari([0,0,0], layer[1].data)\n",
    "    \n",
    "    #handling the null case\n",
    "    if layer is not None:\n",
    "        assert isinstance(layer, np.ndarray)\n",
    "\n",
    "viewer = napari.view_image(np.random.rand(64, 64), name=\"My Image\")\n",
    "viewer.add_image(data.astronaut(), name='astronaut')\n",
    "viewer.window.add_dock_widget(my_widget_image)\n",
    "viewer.window.add_dock_widget(my_widget_imagedata)\n",
    "viewer.window.add_dock_widget(my_widget_layer)"
   ]
  },
  {
   "cell_type": "markdown",
   "metadata": {},
   "source": [
    "<h2>Return Annotations</h2>\n",
    "<p>Napari will interpet it to mean that the layer returned from the function should be added to the viewer</p>\n",
    "<p>In this method, a new layer will be added to the layer list each time the function is called. To update an existing layer, it is mandatory to use the LayerDataTuple</p>"
   ]
  },
  {
   "cell_type": "code",
   "execution_count": null,
   "metadata": {},
   "outputs": [],
   "source": [
    "from magicgui import magicgui\n",
    "from napari.layers import Image\n",
    "from napari.types import ImageData \n",
    "import gantry_dummy\n",
    "from napari.layers import Layer\n",
    "\n",
    "\n",
    "@magicgui(call_button='Add Image')\n",
    "def my_widget(ny: int=64, nx: int=64) -> Image:\n",
    "  return Image(np.random.rand(ny, nx), name='My Image')\n",
    "\n",
    "viewer = napari.view_image(np.random.rand(64, 64), name=\"My Image\")\n",
    "viewer.window.add_dock_widget(my_widget, area='right')\n",
    "my_widget() "
   ]
  },
  {
   "cell_type": "code",
   "execution_count": null,
   "metadata": {},
   "outputs": [],
   "source": [
    "from magicgui import magicgui\n",
    "from napari.layers import Image\n",
    "from napari.types import ImageData \n",
    "import gantry_dummy\n",
    "from napari.layers import Layer\n",
    "\n",
    "from napari.types import LabelsData, ImageData\n",
    "\n",
    "@magicgui(call_button='Run Threshold')\n",
    "def threshold(image: ImageData, threshold: int = 75) -> LabelsData:\n",
    "    return (image > threshold).astype(int)\n",
    "\n",
    "viewer = napari.view_image(np.random.randint(0, 100, (200, 200)))\n",
    "viewer.add_image(data.astronaut(), name='astronaut')\n",
    "viewer.window.add_dock_widget(threshold)\n",
    "threshold() "
   ]
  },
  {
   "cell_type": "markdown",
   "metadata": {},
   "source": [
    "<h2>napari.types.LayerDataTuple</h2>\n",
    "<p>Control over the layer that will be created and added to the viewer</p>"
   ]
  },
  {
   "cell_type": "code",
   "execution_count": 5,
   "metadata": {},
   "outputs": [
    {
     "name": "stderr",
     "output_type": "stream",
     "text": [
      "WARNING: QWindowsWindow::setGeometry: Unable to set geometry 1086x684+1920+30 (frame: 1102x723+1912-1) on QWidgetWindow/\"_QtMainWindowClassWindow\" on \"\\\\.\\DISPLAY4\". Resulting geometry: 867x573+1919+23 (frame: 883x612+1911-8) margins: 8, 31, 8, 8 minimum size: 374x573 MINMAXINFO maxSize=0,0 maxpos=0,0 mintrack=390,612 maxtrack=0,0)\n",
      "WARNING: QWindowsWindow::setGeometry: Unable to set geometry 867x1162+1919+23 (frame: 883x1201+1911-8) on QWidgetWindow/\"_QtMainWindowClassWindow\" on \"\\\\.\\DISPLAY4\". Resulting geometry: 867x1063+1919+23 (frame: 883x1102+1911-8) margins: 8, 31, 8, 8 minimum size: 374x573 MINMAXINFO maxSize=0,0 maxpos=0,0 mintrack=390,612 maxtrack=0,0)\n"
     ]
    },
    {
     "data": {
      "text/plain": [
       "(array([[197.34151955, 395.90776217],\n",
       "        [ 21.50668213, 285.16401392],\n",
       "        [ 22.4120295 , 384.26147599],\n",
       "        [410.61629485, 389.98098933],\n",
       "        [137.00501106, 229.66165061],\n",
       "        [240.79398966, 449.21040238],\n",
       "        [233.61919744,  33.04509386],\n",
       "        [268.13425767, 141.88084112],\n",
       "        [369.11770829, 450.66794913],\n",
       "        [385.59336105,  88.51865738],\n",
       "        [376.86156307, 490.18285846],\n",
       "        [212.04724799,  21.22707975],\n",
       "        [100.7620035 , 271.99955185],\n",
       "        [ 13.86522282, 129.60640529],\n",
       "        [251.04128943, 252.92086943],\n",
       "        [482.24303797, 157.77083666],\n",
       "        [ 38.5148816 , 310.8205789 ],\n",
       "        [245.06128176, 169.4803433 ],\n",
       "        [271.3214304 , 237.98496893],\n",
       "        [450.84288849, 348.52561781],\n",
       "        [120.26398357, 144.64885802],\n",
       "        [127.19568496,  98.47545039],\n",
       "        [496.61240396, 265.43966589],\n",
       "        [125.53345183,  45.8773645 ],\n",
       "        [355.54338973, 312.03110302],\n",
       "        [199.70822731,  71.58284887],\n",
       "        [197.43983738, 197.25979111],\n",
       "        [173.37377824, 130.08865079],\n",
       "        [493.67457916, 270.33287389],\n",
       "        [225.51062776, 237.85314415],\n",
       "        [133.4739488 , 378.81895224],\n",
       "        [ 27.41702282,   6.40437891],\n",
       "        [460.21612444, 425.10150156],\n",
       "        [447.15558384, 484.14999108],\n",
       "        [357.74058141, 142.91317932],\n",
       "        [264.19080952, 175.41242651],\n",
       "        [363.90468382,  52.6903328 ],\n",
       "        [314.95624527,  67.63211499],\n",
       "        [255.59534304, 399.56234957],\n",
       "        [204.70190682, 460.44603141]]),\n",
       " {'properties': {'values': array([0.03002776, 0.35127609, 0.48254606, 0.94525691, 0.96891475,\n",
       "          0.39417236, 0.48960829, 0.41537291, 0.9485032 , 0.37905743,\n",
       "          0.71714199, 0.46661869, 0.94649188, 0.95837777, 0.79735224,\n",
       "          0.84120374, 0.61061093, 0.33430802, 0.6177247 , 0.42514003,\n",
       "          0.25988418, 0.7833736 , 0.47128966, 0.30908217, 0.73604491,\n",
       "          0.76026797, 0.85575945, 0.20096634, 0.43536493, 0.80862975,\n",
       "          0.13129393, 0.53424717, 0.48380056, 0.36312227, 0.25455184,\n",
       "          0.49512663, 0.53884526, 0.7031576 , 0.78453116, 0.58245849])}},\n",
       " 'points')"
      ]
     },
     "execution_count": 5,
     "metadata": {},
     "output_type": "execute_result"
    }
   ],
   "source": [
    "import napari.types\n",
    "\n",
    "@magicgui(call_button='Make Points', labels=\"Teste\")\n",
    "def make_points(n_points=40) -> napari.types.LayerDataTuple:\n",
    "  data = 500 * np.random.rand(n_points, 2)\n",
    "  props = {'values': np.random.rand(n_points)}\n",
    "  return (data, {'properties': props}, 'points')\n",
    "\n",
    "viewer = napari.Viewer()\n",
    "viewer.window.add_dock_widget(make_points)\n",
    "make_points() "
   ]
  },
  {
   "cell_type": "code",
   "execution_count": null,
   "metadata": {},
   "outputs": [],
   "source": [
    "import gantry_dummy\n",
    "\n",
    "public_method_names = [method for method in dir(gantry_dummy.GantryDummy) if callable(getattr(gantry_dummy.GantryDummy, method)) if not method.startswith('_')]  \n",
    "print(public_method_names)\n",
    "for method in public_method_names:\n",
    "    getattr(gantry_dummy.GantryDummy, method)([0,0,0], )"
   ]
  },
  {
   "cell_type": "code",
   "execution_count": 6,
   "metadata": {},
   "outputs": [
    {
     "name": "stdout",
     "output_type": "stream",
     "text": [
      "disable_drives\n",
      "enable_drives\n",
      "home\n",
      "move_abs\n",
      "move_abs_u\n",
      "move_rel\n",
      "move_to_safe\n"
     ]
    }
   ],
   "source": [
    "from magicgui import magicgui\n",
    "from napari.layers import Image\n",
    "from napari.types import ImageData \n",
    "import gantry_dummy\n",
    "from napari.layers import Layer\n",
    "\n",
    "public_method_names = [method for method in dir(gantry_dummy.GantryDummy) if callable(getattr(gantry_dummy.GantryDummy, method)) if not method.startswith('_')]  \n",
    "for method in public_method_names:\n",
    "    @magicgui()\n",
    "    def widget(array: ImageData):\n",
    "        getattr(gantry_dummy.GantryDummy, method)([0,0,0])\n",
    "\n",
    "viewer = napari.view_image(np.random.rand(64, 64), name=\"My Image\")\n",
    "for method in public_method_names:\n",
    "    print(method)\n",
    "    viewer.window.add_dock_widget(widget)"
   ]
  }
 ],
 "metadata": {
  "kernelspec": {
   "display_name": "Python 3 (ipykernel)",
   "language": "python",
   "name": "python3"
  },
  "language_info": {
   "codemirror_mode": {
    "name": "ipython",
    "version": 3
   },
   "file_extension": ".py",
   "mimetype": "text/x-python",
   "name": "python",
   "nbconvert_exporter": "python",
   "pygments_lexer": "ipython3",
   "version": "3.9.15"
  },
  "vscode": {
   "interpreter": {
    "hash": "ca6de0e43aef5651f5ae5b176ea93fb50d22015ed202be4aff80e041ca1e8f33"
   }
  }
 },
 "nbformat": 4,
 "nbformat_minor": 2
}
