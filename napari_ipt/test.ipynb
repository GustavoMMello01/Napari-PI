{
 "cells": [
  {
   "cell_type": "code",
   "execution_count": 2,
   "metadata": {},
   "outputs": [],
   "source": [
    "#imports from napari\n",
    "from skimage import data\n",
    "import napari\n",
    "import numpy as np\n",
    "from napari.layers import Layer\n",
    "import napari.types\n",
    "from typing import List\n",
    "from magicgui import magicgui"
   ]
  },
  {
   "cell_type": "code",
   "execution_count": null,
   "metadata": {
    "scrolled": true
   },
   "outputs": [],
   "source": [
    "# add points according to a specific array in a normal napari plugin\n",
    "viewer = napari.Viewer()\n",
    "points = np.array([[100, 100], [200, 200], [333, 333]])\n",
    "size = np.array([10, 20, 20])\n",
    "viewer.add_points(points, size=size)"
   ]
  },
  {
   "cell_type": "code",
   "execution_count": null,
   "metadata": {},
   "outputs": [],
   "source": [
    "@magicgui(call_button='Make Points', n_points = {'maximum': 200})\n",
    "def make_points(n_points=40) -> napari.types.LayerDataTuple:\n",
    "  data = 500 * np.random.rand(n_points, 2)\n",
    "  return ( data, {'name': 'My Points'}, 'points')\n",
    "\n",
    "viewer = napari.Viewer()\n",
    "viewer.window.add_dock_widget(make_points)\n",
    "# calling this multiple times will just update 'My Points'\n",
    "make_points()\n",
    "make_points.n_points.value = 80\n",
    "make_points()\n",
    "make_points.n_points.value = 120\n",
    "make_points()"
   ]
  },
  {
   "cell_type": "markdown",
   "metadata": {},
   "source": [
    "<h2>Parameter Annotations</h2>"
   ]
  },
  {
   "cell_type": "code",
   "execution_count": null,
   "metadata": {},
   "outputs": [],
   "source": [
    "from magicgui import magicgui\n",
    "from napari.layers import Image\n",
    "from napari.types import ImageData \n",
    "import gantry_dummy\n",
    "from napari.layers import Layer\n",
    "\n",
    "#parameter: Image -> Access the name and the layer \n",
    "@magicgui(image={'label': 'Select a layer to work'})\n",
    "def my_widget_image(image: Image):\n",
    "    gantry_dummy.GantryDummy.test_napari([0,0,0], image)\n",
    "\n",
    "#parameter: ImageData -> Access the data from the selected layer\n",
    "@magicgui()\n",
    "def my_widget_imagedata(array: ImageData):\n",
    "    gantry_dummy.GantryDummy.test_napari([0,0,0], array.data)\n",
    "\n",
    "#parameter: Layer -> allows the user to pick from all layers in the layer list\n",
    "@magicgui\n",
    "def my_widget_layer(layer: Layer):\n",
    "    gantry_dummy.GantryDummy.test_napari([0,0,0], layer[1].data)\n",
    "    \n",
    "    #handling the null case\n",
    "    if layer is not None:\n",
    "        assert isinstance(layer, np.ndarray)\n",
    "\n",
    "viewer = napari.view_image(np.random.rand(64, 64), name=\"My Image\")\n",
    "viewer.add_image(data.astronaut(), name='astronaut')\n",
    "viewer.window.add_dock_widget(my_widget_image)\n",
    "viewer.window.add_dock_widget(my_widget_imagedata)\n",
    "viewer.window.add_dock_widget(my_widget_layer)"
   ]
  },
  {
   "cell_type": "markdown",
   "metadata": {},
   "source": [
    "<h2>Return Annotations</h2>\n",
    "<p>Napari will interpet it to mean that the layer returned from the function should be added to the viewer</p>\n",
    "<p>In this method, a new layer will be added to the layer list each time the function is called. To update an existing layer, it is mandatory to use the LayerDataTuple</p>"
   ]
  },
  {
   "cell_type": "code",
   "execution_count": null,
   "metadata": {},
   "outputs": [],
   "source": [
    "from magicgui import magicgui\n",
    "from napari.layers import Image\n",
    "from napari.types import ImageData \n",
    "import gantry_dummy\n",
    "from napari.layers import Layer\n",
    "\n",
    "\n",
    "@magicgui(call_button='Add Image')\n",
    "def my_widget(ny: int=64, nx: int=64) -> Image:\n",
    "  return Image(np.random.rand(ny, nx), name='My Image')\n",
    "\n",
    "viewer = napari.view_image(np.random.rand(64, 64), name=\"My Image\")\n",
    "viewer.window.add_dock_widget(my_widget, area='right')\n",
    "my_widget() "
   ]
  },
  {
   "cell_type": "code",
   "execution_count": null,
   "metadata": {},
   "outputs": [],
   "source": [
    "from magicgui import magicgui\n",
    "from napari.layers import Image\n",
    "from napari.types import ImageData \n",
    "import gantry_dummy\n",
    "from napari.layers import Layer\n",
    "\n",
    "from napari.types import LabelsData, ImageData\n",
    "\n",
    "@magicgui(call_button='Run Threshold')\n",
    "def threshold(image: ImageData, threshold: int = 75) -> LabelsData:\n",
    "    return (image > threshold).astype(int)\n",
    "\n",
    "viewer = napari.view_image(np.random.randint(0, 100, (200, 200)))\n",
    "viewer.add_image(data.astronaut(), name='astronaut')\n",
    "viewer.window.add_dock_widget(threshold)\n",
    "threshold() "
   ]
  },
  {
   "cell_type": "markdown",
   "metadata": {},
   "source": [
    "<h2>napari.types.LayerDataTuple</h2>\n",
    "<p>Control over the layer that will be created and added to the viewer</p>"
   ]
  },
  {
   "cell_type": "code",
   "execution_count": null,
   "metadata": {},
   "outputs": [],
   "source": [
    "import napari.types\n",
    "\n",
    "@magicgui(call_button='Make Points')\n",
    "def make_points(n_points=40) -> napari.types.LayerDataTuple:\n",
    "  data = 500 * np.random.rand(n_points, 2)\n",
    "  props = {'values': np.random.rand(n_points)}\n",
    "  return (data, {'properties': props}, 'points')\n",
    "\n",
    "viewer = napari.Viewer()\n",
    "viewer.window.add_dock_widget(make_points)\n",
    "make_points() "
   ]
  },
  {
   "cell_type": "code",
   "execution_count": null,
   "metadata": {},
   "outputs": [],
   "source": [
    "import gantry_dummy\n",
    "\n",
    "public_method_names = [method for method in dir(gantry_dummy.GantryDummy) if callable(getattr(gantry_dummy.GantryDummy, method)) if not method.startswith('_')]  \n",
    "print(public_method_names)\n",
    "for method in public_method_names:\n",
    "    getattr(gantry_dummy.GantryDummy, method)([0,0,0], )"
   ]
  },
  {
   "cell_type": "code",
   "execution_count": 3,
   "metadata": {},
   "outputs": [
    {
     "name": "stdout",
     "output_type": "stream",
     "text": [
      "disable_drives\n",
      "enable_drives\n",
      "home\n",
      "move_abs\n",
      "move_abs_u\n",
      "move_rel\n",
      "move_to_safe\n"
     ]
    }
   ],
   "source": [
    "from magicgui import magicgui\n",
    "from napari.layers import Image\n",
    "from napari.types import ImageData \n",
    "import gantry_dummy\n",
    "from napari.layers import Layer\n",
    "\n",
    "public_method_names = [method for method in dir(gantry_dummy.GantryDummy) if callable(getattr(gantry_dummy.GantryDummy, method)) if not method.startswith('_')]  \n",
    "for method in public_method_names:\n",
    "    @magicgui()\n",
    "    def widget(array: ImageData):\n",
    "        getattr(gantry_dummy.GantryDummy, method)([0,0,0])\n",
    "\n",
    "viewer = napari.view_image(np.random.rand(64, 64), name=\"My Image\")\n",
    "for method in public_method_names:\n",
    "    print(method)\n",
    "    viewer.window.add_dock_widget(widget)"
   ]
  }
 ],
 "metadata": {
  "kernelspec": {
   "display_name": "Python 3 (ipykernel)",
   "language": "python",
   "name": "python3"
  },
  "language_info": {
   "codemirror_mode": {
    "name": "ipython",
    "version": 3
   },
   "file_extension": ".py",
   "mimetype": "text/x-python",
   "name": "python",
   "nbconvert_exporter": "python",
   "pygments_lexer": "ipython3",
   "version": "3.9.15"
  },
  "vscode": {
   "interpreter": {
    "hash": "ca6de0e43aef5651f5ae5b176ea93fb50d22015ed202be4aff80e041ca1e8f33"
   }
  }
 },
 "nbformat": 4,
 "nbformat_minor": 2
}
