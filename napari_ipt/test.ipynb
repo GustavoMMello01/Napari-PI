{
 "cells": [
  {
   "cell_type": "code",
   "execution_count": null,
   "metadata": {},
   "outputs": [],
   "source": [
    "#imports from napari\n",
    "from skimage import data\n",
    "import napari\n",
    "import numpy as np\n",
    "from napari.layers import Layer\n",
    "import napari.types\n",
    "from typing import List\n",
    "from magicgui import magicgui"
   ]
  },
  {
   "cell_type": "code",
   "execution_count": null,
   "metadata": {
    "scrolled": true
   },
   "outputs": [],
   "source": [
    "# add points according to a specific array in a normal napari plugin\n",
    "viewer = napari.Viewer()\n",
    "points = np.array([[100, 100], [200, 200], [333, 333]])\n",
    "size = np.array([10, 20, 20])\n",
    "viewer.add_points(points, size=size)"
   ]
  },
  {
   "cell_type": "code",
   "execution_count": null,
   "metadata": {},
   "outputs": [],
   "source": [
    "@magicgui(call_button='Make Points', n_points = {'maximum': 200})\n",
    "def make_points(n_points=40) -> napari.types.LayerDataTuple:\n",
    "  data = 500 * np.random.rand(n_points, 2)\n",
    "  return ( data, {'name': 'My Points'}, 'points')\n",
    "\n",
    "viewer = napari.Viewer()\n",
    "viewer.window.add_dock_widget(make_points)\n",
    "# calling this multiple times will just update 'My Points'\n",
    "make_points()\n",
    "make_points.n_points.value = 80\n",
    "make_points()\n",
    "make_points.n_points.value = 120\n",
    "make_points()"
   ]
  },
  {
   "cell_type": "markdown",
   "metadata": {},
   "source": [
    "<h2>Parameter Annotations</h2>"
   ]
  },
  {
   "cell_type": "code",
   "execution_count": null,
   "metadata": {},
   "outputs": [],
   "source": [
    "from magicgui import magicgui\n",
    "from napari.layers import Image\n",
    "from napari.types import ImageData \n",
    "import gantry_dummy\n",
    "from napari.layers import Layer\n",
    "\n",
    "#parameter: Image -> Access the name and the layer \n",
    "@magicgui(image={'label': 'Select a layer to work'})\n",
    "def my_widget_image(image: Image):\n",
    "    gantry_dummy.GantryDummy.test_napari([0,0,0], image)\n",
    "\n",
    "#parameter: ImageData -> Access the data from the selected layer\n",
    "@magicgui()\n",
    "def my_widget_imagedata(array: ImageData):\n",
    "    gantry_dummy.GantryDummy.test_napari([0,0,0], array.data)\n",
    "\n",
    "#parameter: Layer -> allows the user to pick from all layers in the layer list\n",
    "@magicgui\n",
    "def my_widget_layer(layer: Layer):\n",
    "    gantry_dummy.GantryDummy.test_napari([0,0,0], layer[1].data)\n",
    "    \n",
    "    #handling the null case\n",
    "    if layer is not None:\n",
    "        assert isinstance(layer, np.ndarray)\n",
    "\n",
    "viewer = napari.view_image(np.random.rand(64, 64), name=\"My Image\")\n",
    "viewer.add_image(data.astronaut(), name='astronaut')\n",
    "viewer.window.add_dock_widget(my_widget_image)\n",
    "viewer.window.add_dock_widget(my_widget_imagedata)\n",
    "viewer.window.add_dock_widget(my_widget_layer)"
   ]
  },
  {
   "cell_type": "markdown",
   "metadata": {},
   "source": [
    "<h2>Return Annotations</h2>\n",
    "<p>Napari will interpet it to mean that the layer returned from the function should be added to the viewer</p>"
   ]
  },
  {
   "cell_type": "code",
   "execution_count": null,
   "metadata": {},
   "outputs": [],
   "source": []
  }
 ],
 "metadata": {
  "kernelspec": {
   "display_name": "Python 3 (ipykernel)",
   "language": "python",
   "name": "python3"
  },
  "language_info": {
   "codemirror_mode": {
    "name": "ipython",
    "version": 3
   },
   "file_extension": ".py",
   "mimetype": "text/x-python",
   "name": "python",
   "nbconvert_exporter": "python",
   "pygments_lexer": "ipython3",
   "version": "3.9.15"
  },
  "vscode": {
   "interpreter": {
    "hash": "ca6de0e43aef5651f5ae5b176ea93fb50d22015ed202be4aff80e041ca1e8f33"
   }
  }
 },
 "nbformat": 4,
 "nbformat_minor": 2
}
